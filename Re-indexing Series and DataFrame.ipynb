{
 "cells": [
  {
   "cell_type": "code",
   "execution_count": 1,
   "metadata": {},
   "outputs": [],
   "source": [
    "import pandas as pd\n",
    "import numpy as np\n",
    "from pandas import Series, DataFrame"
   ]
  },
  {
   "cell_type": "markdown",
   "metadata": {},
   "source": [
    "### Series Re-index"
   ]
  },
  {
   "cell_type": "code",
   "execution_count": 2,
   "metadata": {},
   "outputs": [],
   "source": [
    "s1 = Series([1,2,3,4], index=['A','B','C','D'])"
   ]
  },
  {
   "cell_type": "code",
   "execution_count": 4,
   "metadata": {},
   "outputs": [
    {
     "data": {
      "text/plain": [
       "A    1\n",
       "B    2\n",
       "C    3\n",
       "D    4\n",
       "dtype: int64"
      ]
     },
     "execution_count": 4,
     "metadata": {},
     "output_type": "execute_result"
    }
   ],
   "source": [
    "s1"
   ]
  },
  {
   "cell_type": "code",
   "execution_count": 5,
   "metadata": {},
   "outputs": [
    {
     "data": {
      "text/plain": [
       "A    1.0\n",
       "B    2.0\n",
       "C    3.0\n",
       "D    4.0\n",
       "E    NaN\n",
       "dtype: float64"
      ]
     },
     "execution_count": 5,
     "metadata": {},
     "output_type": "execute_result"
    }
   ],
   "source": [
    "s1.reindex(index= ['A','B','C','D','E'])"
   ]
  },
  {
   "cell_type": "code",
   "execution_count": 7,
   "metadata": {},
   "outputs": [
    {
     "data": {
      "text/plain": [
       "A     1\n",
       "B     2\n",
       "C     3\n",
       "D     4\n",
       "E    10\n",
       "dtype: int64"
      ]
     },
     "execution_count": 7,
     "metadata": {},
     "output_type": "execute_result"
    }
   ],
   "source": [
    "s1.reindex(index= ['A','B','C','D','E'], fill_value = 10) #use fill_value to fill in the NaN"
   ]
  },
  {
   "cell_type": "code",
   "execution_count": 8,
   "metadata": {},
   "outputs": [],
   "source": [
    "s2 = Series(['A','B','C'], index=[1,5,10])"
   ]
  },
  {
   "cell_type": "code",
   "execution_count": 9,
   "metadata": {},
   "outputs": [
    {
     "data": {
      "text/plain": [
       "0     NaN\n",
       "1       A\n",
       "2       A\n",
       "3       A\n",
       "4       A\n",
       "5       B\n",
       "6       B\n",
       "7       B\n",
       "8       B\n",
       "9       B\n",
       "10      C\n",
       "11      C\n",
       "12      C\n",
       "13      C\n",
       "14      C\n",
       "dtype: object"
      ]
     },
     "execution_count": 9,
     "metadata": {},
     "output_type": "execute_result"
    }
   ],
   "source": [
    "s2.reindex(index=range(15), method = 'ffill') # ffile: forward fill, if the value is NaN, it will copy the previous record."
   ]
  },
  {
   "cell_type": "markdown",
   "metadata": {},
   "source": [
    "### Reindex DataFrame "
   ]
  },
  {
   "cell_type": "code",
   "execution_count": 10,
   "metadata": {},
   "outputs": [],
   "source": [
    "df1 = DataFrame(np.random.rand(25).reshape([5,5]))"
   ]
  },
  {
   "cell_type": "code",
   "execution_count": 11,
   "metadata": {},
   "outputs": [
    {
     "data": {
      "text/html": [
       "<div>\n",
       "<style scoped>\n",
       "    .dataframe tbody tr th:only-of-type {\n",
       "        vertical-align: middle;\n",
       "    }\n",
       "\n",
       "    .dataframe tbody tr th {\n",
       "        vertical-align: top;\n",
       "    }\n",
       "\n",
       "    .dataframe thead th {\n",
       "        text-align: right;\n",
       "    }\n",
       "</style>\n",
       "<table border=\"1\" class=\"dataframe\">\n",
       "  <thead>\n",
       "    <tr style=\"text-align: right;\">\n",
       "      <th></th>\n",
       "      <th>0</th>\n",
       "      <th>1</th>\n",
       "      <th>2</th>\n",
       "      <th>3</th>\n",
       "      <th>4</th>\n",
       "    </tr>\n",
       "  </thead>\n",
       "  <tbody>\n",
       "    <tr>\n",
       "      <th>0</th>\n",
       "      <td>0.887624</td>\n",
       "      <td>0.493355</td>\n",
       "      <td>0.711838</td>\n",
       "      <td>0.834406</td>\n",
       "      <td>0.894667</td>\n",
       "    </tr>\n",
       "    <tr>\n",
       "      <th>1</th>\n",
       "      <td>0.868638</td>\n",
       "      <td>0.500430</td>\n",
       "      <td>0.998279</td>\n",
       "      <td>0.582393</td>\n",
       "      <td>0.287109</td>\n",
       "    </tr>\n",
       "    <tr>\n",
       "      <th>2</th>\n",
       "      <td>0.452997</td>\n",
       "      <td>0.992318</td>\n",
       "      <td>0.068213</td>\n",
       "      <td>0.570733</td>\n",
       "      <td>0.127651</td>\n",
       "    </tr>\n",
       "    <tr>\n",
       "      <th>3</th>\n",
       "      <td>0.813679</td>\n",
       "      <td>0.684952</td>\n",
       "      <td>0.236584</td>\n",
       "      <td>0.004486</td>\n",
       "      <td>0.640315</td>\n",
       "    </tr>\n",
       "    <tr>\n",
       "      <th>4</th>\n",
       "      <td>0.081903</td>\n",
       "      <td>0.265552</td>\n",
       "      <td>0.577421</td>\n",
       "      <td>0.439240</td>\n",
       "      <td>0.031344</td>\n",
       "    </tr>\n",
       "  </tbody>\n",
       "</table>\n",
       "</div>"
      ],
      "text/plain": [
       "          0         1         2         3         4\n",
       "0  0.887624  0.493355  0.711838  0.834406  0.894667\n",
       "1  0.868638  0.500430  0.998279  0.582393  0.287109\n",
       "2  0.452997  0.992318  0.068213  0.570733  0.127651\n",
       "3  0.813679  0.684952  0.236584  0.004486  0.640315\n",
       "4  0.081903  0.265552  0.577421  0.439240  0.031344"
      ]
     },
     "execution_count": 11,
     "metadata": {},
     "output_type": "execute_result"
    }
   ],
   "source": [
    "df1"
   ]
  },
  {
   "cell_type": "code",
   "execution_count": 12,
   "metadata": {},
   "outputs": [],
   "source": [
    "df2 = DataFrame(np.random.rand(25).reshape([5,5]), index=['A','B','D','E','F'], columns=['C1','C2','C3','C4','C5'])"
   ]
  },
  {
   "cell_type": "code",
   "execution_count": 13,
   "metadata": {},
   "outputs": [
    {
     "data": {
      "text/html": [
       "<div>\n",
       "<style scoped>\n",
       "    .dataframe tbody tr th:only-of-type {\n",
       "        vertical-align: middle;\n",
       "    }\n",
       "\n",
       "    .dataframe tbody tr th {\n",
       "        vertical-align: top;\n",
       "    }\n",
       "\n",
       "    .dataframe thead th {\n",
       "        text-align: right;\n",
       "    }\n",
       "</style>\n",
       "<table border=\"1\" class=\"dataframe\">\n",
       "  <thead>\n",
       "    <tr style=\"text-align: right;\">\n",
       "      <th></th>\n",
       "      <th>C1</th>\n",
       "      <th>C2</th>\n",
       "      <th>C3</th>\n",
       "      <th>C4</th>\n",
       "      <th>C5</th>\n",
       "    </tr>\n",
       "  </thead>\n",
       "  <tbody>\n",
       "    <tr>\n",
       "      <th>A</th>\n",
       "      <td>0.534982</td>\n",
       "      <td>0.636325</td>\n",
       "      <td>0.144392</td>\n",
       "      <td>0.269782</td>\n",
       "      <td>0.306682</td>\n",
       "    </tr>\n",
       "    <tr>\n",
       "      <th>B</th>\n",
       "      <td>0.328757</td>\n",
       "      <td>0.774281</td>\n",
       "      <td>0.230775</td>\n",
       "      <td>0.933106</td>\n",
       "      <td>0.048882</td>\n",
       "    </tr>\n",
       "    <tr>\n",
       "      <th>D</th>\n",
       "      <td>0.807006</td>\n",
       "      <td>0.169020</td>\n",
       "      <td>0.201143</td>\n",
       "      <td>0.729555</td>\n",
       "      <td>0.420249</td>\n",
       "    </tr>\n",
       "    <tr>\n",
       "      <th>E</th>\n",
       "      <td>0.772502</td>\n",
       "      <td>0.648266</td>\n",
       "      <td>0.812478</td>\n",
       "      <td>0.307464</td>\n",
       "      <td>0.967631</td>\n",
       "    </tr>\n",
       "    <tr>\n",
       "      <th>F</th>\n",
       "      <td>0.615461</td>\n",
       "      <td>0.529127</td>\n",
       "      <td>0.204223</td>\n",
       "      <td>0.198718</td>\n",
       "      <td>0.508460</td>\n",
       "    </tr>\n",
       "  </tbody>\n",
       "</table>\n",
       "</div>"
      ],
      "text/plain": [
       "         C1        C2        C3        C4        C5\n",
       "A  0.534982  0.636325  0.144392  0.269782  0.306682\n",
       "B  0.328757  0.774281  0.230775  0.933106  0.048882\n",
       "D  0.807006  0.169020  0.201143  0.729555  0.420249\n",
       "E  0.772502  0.648266  0.812478  0.307464  0.967631\n",
       "F  0.615461  0.529127  0.204223  0.198718  0.508460"
      ]
     },
     "execution_count": 13,
     "metadata": {},
     "output_type": "execute_result"
    }
   ],
   "source": [
    "df2"
   ]
  },
  {
   "cell_type": "code",
   "execution_count": 15,
   "metadata": {},
   "outputs": [
    {
     "data": {
      "text/html": [
       "<div>\n",
       "<style scoped>\n",
       "    .dataframe tbody tr th:only-of-type {\n",
       "        vertical-align: middle;\n",
       "    }\n",
       "\n",
       "    .dataframe tbody tr th {\n",
       "        vertical-align: top;\n",
       "    }\n",
       "\n",
       "    .dataframe thead th {\n",
       "        text-align: right;\n",
       "    }\n",
       "</style>\n",
       "<table border=\"1\" class=\"dataframe\">\n",
       "  <thead>\n",
       "    <tr style=\"text-align: right;\">\n",
       "      <th></th>\n",
       "      <th>C1</th>\n",
       "      <th>C2</th>\n",
       "      <th>C3</th>\n",
       "      <th>C4</th>\n",
       "      <th>C5</th>\n",
       "    </tr>\n",
       "  </thead>\n",
       "  <tbody>\n",
       "    <tr>\n",
       "      <th>A</th>\n",
       "      <td>0.534982</td>\n",
       "      <td>0.636325</td>\n",
       "      <td>0.144392</td>\n",
       "      <td>0.269782</td>\n",
       "      <td>0.306682</td>\n",
       "    </tr>\n",
       "    <tr>\n",
       "      <th>B</th>\n",
       "      <td>0.328757</td>\n",
       "      <td>0.774281</td>\n",
       "      <td>0.230775</td>\n",
       "      <td>0.933106</td>\n",
       "      <td>0.048882</td>\n",
       "    </tr>\n",
       "    <tr>\n",
       "      <th>C</th>\n",
       "      <td>NaN</td>\n",
       "      <td>NaN</td>\n",
       "      <td>NaN</td>\n",
       "      <td>NaN</td>\n",
       "      <td>NaN</td>\n",
       "    </tr>\n",
       "    <tr>\n",
       "      <th>D</th>\n",
       "      <td>0.807006</td>\n",
       "      <td>0.169020</td>\n",
       "      <td>0.201143</td>\n",
       "      <td>0.729555</td>\n",
       "      <td>0.420249</td>\n",
       "    </tr>\n",
       "    <tr>\n",
       "      <th>E</th>\n",
       "      <td>0.772502</td>\n",
       "      <td>0.648266</td>\n",
       "      <td>0.812478</td>\n",
       "      <td>0.307464</td>\n",
       "      <td>0.967631</td>\n",
       "    </tr>\n",
       "    <tr>\n",
       "      <th>F</th>\n",
       "      <td>0.615461</td>\n",
       "      <td>0.529127</td>\n",
       "      <td>0.204223</td>\n",
       "      <td>0.198718</td>\n",
       "      <td>0.508460</td>\n",
       "    </tr>\n",
       "  </tbody>\n",
       "</table>\n",
       "</div>"
      ],
      "text/plain": [
       "         C1        C2        C3        C4        C5\n",
       "A  0.534982  0.636325  0.144392  0.269782  0.306682\n",
       "B  0.328757  0.774281  0.230775  0.933106  0.048882\n",
       "C       NaN       NaN       NaN       NaN       NaN\n",
       "D  0.807006  0.169020  0.201143  0.729555  0.420249\n",
       "E  0.772502  0.648266  0.812478  0.307464  0.967631\n",
       "F  0.615461  0.529127  0.204223  0.198718  0.508460"
      ]
     },
     "execution_count": 15,
     "metadata": {},
     "output_type": "execute_result"
    }
   ],
   "source": [
    "df2.reindex(index = ['A','B','C','D','E','F'])"
   ]
  },
  {
   "cell_type": "code",
   "execution_count": 20,
   "metadata": {
    "scrolled": true
   },
   "outputs": [
    {
     "data": {
      "text/html": [
       "<div>\n",
       "<style scoped>\n",
       "    .dataframe tbody tr th:only-of-type {\n",
       "        vertical-align: middle;\n",
       "    }\n",
       "\n",
       "    .dataframe tbody tr th {\n",
       "        vertical-align: top;\n",
       "    }\n",
       "\n",
       "    .dataframe thead th {\n",
       "        text-align: right;\n",
       "    }\n",
       "</style>\n",
       "<table border=\"1\" class=\"dataframe\">\n",
       "  <thead>\n",
       "    <tr style=\"text-align: right;\">\n",
       "      <th></th>\n",
       "      <th>C1</th>\n",
       "      <th>C2</th>\n",
       "      <th>C3</th>\n",
       "      <th>C4</th>\n",
       "      <th>C5</th>\n",
       "      <th>C6</th>\n",
       "    </tr>\n",
       "  </thead>\n",
       "  <tbody>\n",
       "    <tr>\n",
       "      <th>A</th>\n",
       "      <td>0.534982</td>\n",
       "      <td>0.636325</td>\n",
       "      <td>0.144392</td>\n",
       "      <td>0.269782</td>\n",
       "      <td>0.306682</td>\n",
       "      <td>NaN</td>\n",
       "    </tr>\n",
       "    <tr>\n",
       "      <th>B</th>\n",
       "      <td>0.328757</td>\n",
       "      <td>0.774281</td>\n",
       "      <td>0.230775</td>\n",
       "      <td>0.933106</td>\n",
       "      <td>0.048882</td>\n",
       "      <td>NaN</td>\n",
       "    </tr>\n",
       "    <tr>\n",
       "      <th>D</th>\n",
       "      <td>0.807006</td>\n",
       "      <td>0.169020</td>\n",
       "      <td>0.201143</td>\n",
       "      <td>0.729555</td>\n",
       "      <td>0.420249</td>\n",
       "      <td>NaN</td>\n",
       "    </tr>\n",
       "    <tr>\n",
       "      <th>E</th>\n",
       "      <td>0.772502</td>\n",
       "      <td>0.648266</td>\n",
       "      <td>0.812478</td>\n",
       "      <td>0.307464</td>\n",
       "      <td>0.967631</td>\n",
       "      <td>NaN</td>\n",
       "    </tr>\n",
       "    <tr>\n",
       "      <th>F</th>\n",
       "      <td>0.615461</td>\n",
       "      <td>0.529127</td>\n",
       "      <td>0.204223</td>\n",
       "      <td>0.198718</td>\n",
       "      <td>0.508460</td>\n",
       "      <td>NaN</td>\n",
       "    </tr>\n",
       "  </tbody>\n",
       "</table>\n",
       "</div>"
      ],
      "text/plain": [
       "         C1        C2        C3        C4        C5  C6\n",
       "A  0.534982  0.636325  0.144392  0.269782  0.306682 NaN\n",
       "B  0.328757  0.774281  0.230775  0.933106  0.048882 NaN\n",
       "D  0.807006  0.169020  0.201143  0.729555  0.420249 NaN\n",
       "E  0.772502  0.648266  0.812478  0.307464  0.967631 NaN\n",
       "F  0.615461  0.529127  0.204223  0.198718  0.508460 NaN"
      ]
     },
     "execution_count": 20,
     "metadata": {},
     "output_type": "execute_result"
    }
   ],
   "source": [
    "df2.reindex(columns= ['C1','C2','C3','C4','C5','C6'])"
   ]
  },
  {
   "cell_type": "markdown",
   "metadata": {},
   "source": [
    "### If we reduce the index number"
   ]
  },
  {
   "cell_type": "code",
   "execution_count": 19,
   "metadata": {
    "scrolled": true
   },
   "outputs": [
    {
     "data": {
      "text/plain": [
       "A    1\n",
       "B    2\n",
       "dtype: int64"
      ]
     },
     "execution_count": 19,
     "metadata": {},
     "output_type": "execute_result"
    }
   ],
   "source": [
    "s1.reindex(index=['A','B'])"
   ]
  },
  {
   "cell_type": "code",
   "execution_count": 22,
   "metadata": {},
   "outputs": [
    {
     "data": {
      "text/html": [
       "<div>\n",
       "<style scoped>\n",
       "    .dataframe tbody tr th:only-of-type {\n",
       "        vertical-align: middle;\n",
       "    }\n",
       "\n",
       "    .dataframe tbody tr th {\n",
       "        vertical-align: top;\n",
       "    }\n",
       "\n",
       "    .dataframe thead th {\n",
       "        text-align: right;\n",
       "    }\n",
       "</style>\n",
       "<table border=\"1\" class=\"dataframe\">\n",
       "  <thead>\n",
       "    <tr style=\"text-align: right;\">\n",
       "      <th></th>\n",
       "      <th>C1</th>\n",
       "      <th>C2</th>\n",
       "      <th>C3</th>\n",
       "      <th>C4</th>\n",
       "      <th>C5</th>\n",
       "    </tr>\n",
       "  </thead>\n",
       "  <tbody>\n",
       "    <tr>\n",
       "      <th>A</th>\n",
       "      <td>0.534982</td>\n",
       "      <td>0.636325</td>\n",
       "      <td>0.144392</td>\n",
       "      <td>0.269782</td>\n",
       "      <td>0.306682</td>\n",
       "    </tr>\n",
       "    <tr>\n",
       "      <th>B</th>\n",
       "      <td>0.328757</td>\n",
       "      <td>0.774281</td>\n",
       "      <td>0.230775</td>\n",
       "      <td>0.933106</td>\n",
       "      <td>0.048882</td>\n",
       "    </tr>\n",
       "  </tbody>\n",
       "</table>\n",
       "</div>"
      ],
      "text/plain": [
       "         C1        C2        C3        C4        C5\n",
       "A  0.534982  0.636325  0.144392  0.269782  0.306682\n",
       "B  0.328757  0.774281  0.230775  0.933106  0.048882"
      ]
     },
     "execution_count": 22,
     "metadata": {},
     "output_type": "execute_result"
    }
   ],
   "source": [
    "df2.reindex(index=['A','B'])"
   ]
  },
  {
   "cell_type": "code",
   "execution_count": 23,
   "metadata": {},
   "outputs": [
    {
     "data": {
      "text/plain": [
       "B    2\n",
       "C    3\n",
       "D    4\n",
       "dtype: int64"
      ]
     },
     "execution_count": 23,
     "metadata": {},
     "output_type": "execute_result"
    }
   ],
   "source": [
    "s1.drop('A') #use drop to delete row"
   ]
  },
  {
   "cell_type": "code",
   "execution_count": 24,
   "metadata": {},
   "outputs": [
    {
     "data": {
      "text/html": [
       "<div>\n",
       "<style scoped>\n",
       "    .dataframe tbody tr th:only-of-type {\n",
       "        vertical-align: middle;\n",
       "    }\n",
       "\n",
       "    .dataframe tbody tr th {\n",
       "        vertical-align: top;\n",
       "    }\n",
       "\n",
       "    .dataframe thead th {\n",
       "        text-align: right;\n",
       "    }\n",
       "</style>\n",
       "<table border=\"1\" class=\"dataframe\">\n",
       "  <thead>\n",
       "    <tr style=\"text-align: right;\">\n",
       "      <th></th>\n",
       "      <th>C1</th>\n",
       "      <th>C2</th>\n",
       "      <th>C3</th>\n",
       "      <th>C4</th>\n",
       "      <th>C5</th>\n",
       "    </tr>\n",
       "  </thead>\n",
       "  <tbody>\n",
       "    <tr>\n",
       "      <th>B</th>\n",
       "      <td>0.328757</td>\n",
       "      <td>0.774281</td>\n",
       "      <td>0.230775</td>\n",
       "      <td>0.933106</td>\n",
       "      <td>0.048882</td>\n",
       "    </tr>\n",
       "    <tr>\n",
       "      <th>D</th>\n",
       "      <td>0.807006</td>\n",
       "      <td>0.169020</td>\n",
       "      <td>0.201143</td>\n",
       "      <td>0.729555</td>\n",
       "      <td>0.420249</td>\n",
       "    </tr>\n",
       "    <tr>\n",
       "      <th>E</th>\n",
       "      <td>0.772502</td>\n",
       "      <td>0.648266</td>\n",
       "      <td>0.812478</td>\n",
       "      <td>0.307464</td>\n",
       "      <td>0.967631</td>\n",
       "    </tr>\n",
       "    <tr>\n",
       "      <th>F</th>\n",
       "      <td>0.615461</td>\n",
       "      <td>0.529127</td>\n",
       "      <td>0.204223</td>\n",
       "      <td>0.198718</td>\n",
       "      <td>0.508460</td>\n",
       "    </tr>\n",
       "  </tbody>\n",
       "</table>\n",
       "</div>"
      ],
      "text/plain": [
       "         C1        C2        C3        C4        C5\n",
       "B  0.328757  0.774281  0.230775  0.933106  0.048882\n",
       "D  0.807006  0.169020  0.201143  0.729555  0.420249\n",
       "E  0.772502  0.648266  0.812478  0.307464  0.967631\n",
       "F  0.615461  0.529127  0.204223  0.198718  0.508460"
      ]
     },
     "execution_count": 24,
     "metadata": {},
     "output_type": "execute_result"
    }
   ],
   "source": [
    "df2.drop('A',axis=0) #axis = 0 --> delete row ; axis = 1 --> delete column"
   ]
  }
 ],
 "metadata": {
  "kernelspec": {
   "display_name": "Python 3",
   "language": "python",
   "name": "python3"
  },
  "language_info": {
   "codemirror_mode": {
    "name": "ipython",
    "version": 3
   },
   "file_extension": ".py",
   "mimetype": "text/x-python",
   "name": "python",
   "nbconvert_exporter": "python",
   "pygments_lexer": "ipython3",
   "version": "3.6.8"
  }
 },
 "nbformat": 4,
 "nbformat_minor": 2
}
